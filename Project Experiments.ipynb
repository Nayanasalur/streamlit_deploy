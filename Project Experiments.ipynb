{
 "cells": [
  {
   "cell_type": "markdown",
   "metadata": {},
   "source": [
    "# Fetching data from the Api\n",
    "Using Iex Cloud\n",
    "\n",
    "saving it to csv"
   ]
  },
  {
   "cell_type": "code",
   "execution_count": 2,
   "metadata": {},
   "outputs": [
    {
     "name": "stdout",
     "output_type": "stream",
     "text": [
      "Collecting pyEX\n",
      "  Using cached pyEX-0.5.0-py2.py3-none-any.whl (163 kB)\n",
      "Requirement already satisfied: Pillow>=5.3.0 in c:\\programdata\\anaconda3\\lib\\site-packages (from pyEX) (7.0.0)\n",
      "Collecting sseclient>=0.0.22\n",
      "  Using cached sseclient-0.0.27.tar.gz (7.5 kB)\n",
      "Requirement already satisfied: ipython>=7.2.0 in c:\\programdata\\anaconda3\\lib\\site-packages (from pyEX) (7.12.0)\n",
      "Requirement already satisfied: six in c:\\programdata\\anaconda3\\lib\\site-packages (from pyEX) (1.14.0)\n",
      "Collecting socketIO-client-nexus>=0.7.6\n",
      "  Using cached socketIO_client_nexus-0.7.6-py2.py3-none-any.whl (22 kB)\n",
      "Collecting temporal-cache>=0.1.1\n",
      "  Using cached temporal_cache-0.1.4-py2.py3-none-any.whl (17 kB)\n",
      "Collecting deprecation>=2.0.6\n",
      "  Using cached deprecation-2.1.0-py2.py3-none-any.whl (11 kB)\n",
      "Requirement already satisfied: requests>=2.21.0 in c:\\programdata\\anaconda3\\lib\\site-packages (from pyEX) (2.22.0)\n",
      "Requirement already satisfied: pytz>=2019.1 in c:\\programdata\\anaconda3\\lib\\site-packages (from pyEX) (2019.3)\n",
      "Requirement already satisfied: pandas>=0.22 in c:\\programdata\\anaconda3\\lib\\site-packages (from pyEX) (1.2.3)\n",
      "Requirement already satisfied: backcall in c:\\programdata\\anaconda3\\lib\\site-packages (from ipython>=7.2.0->pyEX) (0.1.0)\n",
      "Requirement already satisfied: traitlets>=4.2 in c:\\programdata\\anaconda3\\lib\\site-packages (from ipython>=7.2.0->pyEX) (4.3.3)\n",
      "Requirement already satisfied: colorama; sys_platform == \"win32\" in c:\\programdata\\anaconda3\\lib\\site-packages (from ipython>=7.2.0->pyEX) (0.4.3)\n",
      "Requirement already satisfied: pickleshare in c:\\programdata\\anaconda3\\lib\\site-packages (from ipython>=7.2.0->pyEX) (0.7.5)\n",
      "Requirement already satisfied: pygments in c:\\programdata\\anaconda3\\lib\\site-packages (from ipython>=7.2.0->pyEX) (2.5.2)\n",
      "Requirement already satisfied: jedi>=0.10 in c:\\programdata\\anaconda3\\lib\\site-packages (from ipython>=7.2.0->pyEX) (0.14.1)\n",
      "Requirement already satisfied: prompt-toolkit!=3.0.0,!=3.0.1,<3.1.0,>=2.0.0 in c:\\programdata\\anaconda3\\lib\\site-packages (from ipython>=7.2.0->pyEX) (3.0.3)\n",
      "Requirement already satisfied: decorator in c:\\programdata\\anaconda3\\lib\\site-packages (from ipython>=7.2.0->pyEX) (4.4.1)\n",
      "Requirement already satisfied: setuptools>=18.5 in c:\\programdata\\anaconda3\\lib\\site-packages (from ipython>=7.2.0->pyEX) (45.2.0.post20200210)\n",
      "Collecting websocket-client\n",
      "  Using cached websocket_client-1.0.1-py2.py3-none-any.whl (68 kB)\n",
      "Collecting frozendict>=1.2\n",
      "  Using cached frozendict-2.0.2-py3-none-any.whl (8.3 kB)\n",
      "Requirement already satisfied: tzlocal>=2.0.0 in c:\\programdata\\anaconda3\\lib\\site-packages (from temporal-cache>=0.1.1->pyEX) (2.1)\n",
      "Requirement already satisfied: packaging in c:\\programdata\\anaconda3\\lib\\site-packages (from deprecation>=2.0.6->pyEX) (20.1)\n",
      "Requirement already satisfied: idna<2.9,>=2.5 in c:\\programdata\\anaconda3\\lib\\site-packages (from requests>=2.21.0->pyEX) (2.8)\n",
      "Requirement already satisfied: urllib3!=1.25.0,!=1.25.1,<1.26,>=1.21.1 in c:\\programdata\\anaconda3\\lib\\site-packages (from requests>=2.21.0->pyEX) (1.25.8)\n",
      "Requirement already satisfied: certifi>=2017.4.17 in c:\\programdata\\anaconda3\\lib\\site-packages (from requests>=2.21.0->pyEX) (2019.11.28)\n",
      "Requirement already satisfied: chardet<3.1.0,>=3.0.2 in c:\\programdata\\anaconda3\\lib\\site-packages (from requests>=2.21.0->pyEX) (3.0.4)\n",
      "Requirement already satisfied: python-dateutil>=2.7.3 in c:\\programdata\\anaconda3\\lib\\site-packages (from pandas>=0.22->pyEX) (2.8.1)\n",
      "Requirement already satisfied: numpy>=1.16.5 in c:\\programdata\\anaconda3\\lib\\site-packages (from pandas>=0.22->pyEX) (1.20.0)\n",
      "Requirement already satisfied: ipython-genutils in c:\\programdata\\anaconda3\\lib\\site-packages (from traitlets>=4.2->ipython>=7.2.0->pyEX) (0.2.0)\n",
      "Requirement already satisfied: parso>=0.5.0 in c:\\programdata\\anaconda3\\lib\\site-packages (from jedi>=0.10->ipython>=7.2.0->pyEX) (0.5.2)\n",
      "Requirement already satisfied: wcwidth in c:\\programdata\\anaconda3\\lib\\site-packages (from prompt-toolkit!=3.0.0,!=3.0.1,<3.1.0,>=2.0.0->ipython>=7.2.0->pyEX) (0.1.8)\n",
      "Requirement already satisfied: pyparsing>=2.0.2 in c:\\programdata\\anaconda3\\lib\\site-packages (from packaging->deprecation>=2.0.6->pyEX) (2.4.6)\n",
      "Building wheels for collected packages: sseclient\n",
      "  Building wheel for sseclient (setup.py): started\n",
      "  Building wheel for sseclient (setup.py): finished with status 'done'\n",
      "  Created wheel for sseclient: filename=sseclient-0.0.27-py3-none-any.whl size=5576 sha256=df0c817519d59645b45f52939fb89cfff29fa5cbbbca5d011e895876f916f990\n",
      "  Stored in directory: c:\\users\\gst\\appdata\\local\\pip\\cache\\wheels\\07\\67\\7e\\96edf627ac746de1a5c5cbb8d59ed960f033b8352dc12c545d\n",
      "Successfully built sseclient\n",
      "Installing collected packages: sseclient, websocket-client, socketIO-client-nexus, frozendict, temporal-cache, deprecation, pyEX\n",
      "Successfully installed deprecation-2.1.0 frozendict-2.0.2 pyEX-0.5.0 socketIO-client-nexus-0.7.6 sseclient-0.0.27 temporal-cache-0.1.4 websocket-client-1.0.1\n"
     ]
    }
   ],
   "source": [
    "!pip install pyEX\n"
   ]
  },
  {
   "cell_type": "code",
   "execution_count": 3,
   "metadata": {},
   "outputs": [],
   "source": [
    "import pyEX as p\n",
    "c = p.Client(api_token='pk_53f6f55f51234bc594c5aaee57dbf2a3', version='stable')\n",
    "\n"
   ]
  },
  {
   "cell_type": "code",
   "execution_count": 47,
   "metadata": {},
   "outputs": [
    {
     "data": {
      "text/html": [
       "<div>\n",
       "<style scoped>\n",
       "    .dataframe tbody tr th:only-of-type {\n",
       "        vertical-align: middle;\n",
       "    }\n",
       "\n",
       "    .dataframe tbody tr th {\n",
       "        vertical-align: top;\n",
       "    }\n",
       "\n",
       "    .dataframe thead th {\n",
       "        text-align: right;\n",
       "    }\n",
       "</style>\n",
       "<table border=\"1\" class=\"dataframe\">\n",
       "  <thead>\n",
       "    <tr style=\"text-align: right;\">\n",
       "      <th></th>\n",
       "      <th>open</th>\n",
       "      <th>low</th>\n",
       "      <th>close</th>\n",
       "      <th>volume</th>\n",
       "    </tr>\n",
       "    <tr>\n",
       "      <th>date</th>\n",
       "      <th></th>\n",
       "      <th></th>\n",
       "      <th></th>\n",
       "      <th></th>\n",
       "    </tr>\n",
       "  </thead>\n",
       "  <tbody>\n",
       "    <tr>\n",
       "      <th>2021-05-25</th>\n",
       "      <td>251.769</td>\n",
       "      <td>250.82</td>\n",
       "      <td>251.72</td>\n",
       "      <td>17704303</td>\n",
       "    </tr>\n",
       "    <tr>\n",
       "      <th>2021-05-24</th>\n",
       "      <td>247.785</td>\n",
       "      <td>247.51</td>\n",
       "      <td>250.78</td>\n",
       "      <td>21411547</td>\n",
       "    </tr>\n",
       "    <tr>\n",
       "      <th>2021-05-21</th>\n",
       "      <td>247.565</td>\n",
       "      <td>244.74</td>\n",
       "      <td>245.17</td>\n",
       "      <td>21863058</td>\n",
       "    </tr>\n",
       "    <tr>\n",
       "      <th>2021-05-20</th>\n",
       "      <td>243.960</td>\n",
       "      <td>243.86</td>\n",
       "      <td>246.48</td>\n",
       "      <td>21800716</td>\n",
       "    </tr>\n",
       "    <tr>\n",
       "      <th>2021-05-19</th>\n",
       "      <td>239.310</td>\n",
       "      <td>238.60</td>\n",
       "      <td>243.12</td>\n",
       "      <td>25739807</td>\n",
       "    </tr>\n",
       "    <tr>\n",
       "      <th>...</th>\n",
       "      <td>...</td>\n",
       "      <td>...</td>\n",
       "      <td>...</td>\n",
       "      <td>...</td>\n",
       "    </tr>\n",
       "    <tr>\n",
       "      <th>2020-06-01</th>\n",
       "      <td>182.540</td>\n",
       "      <td>181.46</td>\n",
       "      <td>182.83</td>\n",
       "      <td>22668821</td>\n",
       "    </tr>\n",
       "    <tr>\n",
       "      <th>2020-05-29</th>\n",
       "      <td>182.730</td>\n",
       "      <td>180.41</td>\n",
       "      <td>183.25</td>\n",
       "      <td>42146720</td>\n",
       "    </tr>\n",
       "    <tr>\n",
       "      <th>2020-05-28</th>\n",
       "      <td>180.740</td>\n",
       "      <td>180.38</td>\n",
       "      <td>181.40</td>\n",
       "      <td>33831824</td>\n",
       "    </tr>\n",
       "    <tr>\n",
       "      <th>2020-05-27</th>\n",
       "      <td>180.200</td>\n",
       "      <td>176.60</td>\n",
       "      <td>181.81</td>\n",
       "      <td>39517146</td>\n",
       "    </tr>\n",
       "    <tr>\n",
       "      <th>2020-05-26</th>\n",
       "      <td>186.340</td>\n",
       "      <td>181.10</td>\n",
       "      <td>181.57</td>\n",
       "      <td>36073609</td>\n",
       "    </tr>\n",
       "  </tbody>\n",
       "</table>\n",
       "<p>253 rows × 4 columns</p>\n",
       "</div>"
      ],
      "text/plain": [
       "               open     low   close    volume\n",
       "date                                         \n",
       "2021-05-25  251.769  250.82  251.72  17704303\n",
       "2021-05-24  247.785  247.51  250.78  21411547\n",
       "2021-05-21  247.565  244.74  245.17  21863058\n",
       "2021-05-20  243.960  243.86  246.48  21800716\n",
       "2021-05-19  239.310  238.60  243.12  25739807\n",
       "...             ...     ...     ...       ...\n",
       "2020-06-01  182.540  181.46  182.83  22668821\n",
       "2020-05-29  182.730  180.41  183.25  42146720\n",
       "2020-05-28  180.740  180.38  181.40  33831824\n",
       "2020-05-27  180.200  176.60  181.81  39517146\n",
       "2020-05-26  186.340  181.10  181.57  36073609\n",
       "\n",
       "[253 rows x 4 columns]"
      ]
     },
     "execution_count": 47,
     "metadata": {},
     "output_type": "execute_result"
    }
   ],
   "source": [
    "sym='MSFT'\n",
    "timeframe='1y'\n",
    "df2 = c.chartDF(symbol=sym, timeframe=timeframe)[['open','low','close', 'volume']]\n",
    "df2"
   ]
  },
  {
   "cell_type": "code",
   "execution_count": 28,
   "metadata": {},
   "outputs": [],
   "source": [
    "df.reset_index(inplace=True)"
   ]
  },
  {
   "cell_type": "code",
   "execution_count": 29,
   "metadata": {},
   "outputs": [
    {
     "data": {
      "text/html": [
       "<div>\n",
       "<style scoped>\n",
       "    .dataframe tbody tr th:only-of-type {\n",
       "        vertical-align: middle;\n",
       "    }\n",
       "\n",
       "    .dataframe tbody tr th {\n",
       "        vertical-align: top;\n",
       "    }\n",
       "\n",
       "    .dataframe thead th {\n",
       "        text-align: right;\n",
       "    }\n",
       "</style>\n",
       "<table border=\"1\" class=\"dataframe\">\n",
       "  <thead>\n",
       "    <tr style=\"text-align: right;\">\n",
       "      <th></th>\n",
       "      <th>date</th>\n",
       "      <th>open</th>\n",
       "      <th>low</th>\n",
       "      <th>close</th>\n",
       "      <th>volume</th>\n",
       "    </tr>\n",
       "  </thead>\n",
       "  <tbody>\n",
       "    <tr>\n",
       "      <th>0</th>\n",
       "      <td>2021-05-25</td>\n",
       "      <td>251.769</td>\n",
       "      <td>250.82</td>\n",
       "      <td>251.72</td>\n",
       "      <td>17704303</td>\n",
       "    </tr>\n",
       "    <tr>\n",
       "      <th>1</th>\n",
       "      <td>2021-05-24</td>\n",
       "      <td>247.785</td>\n",
       "      <td>247.51</td>\n",
       "      <td>250.78</td>\n",
       "      <td>21411547</td>\n",
       "    </tr>\n",
       "    <tr>\n",
       "      <th>2</th>\n",
       "      <td>2021-05-21</td>\n",
       "      <td>247.565</td>\n",
       "      <td>244.74</td>\n",
       "      <td>245.17</td>\n",
       "      <td>21863058</td>\n",
       "    </tr>\n",
       "    <tr>\n",
       "      <th>3</th>\n",
       "      <td>2021-05-20</td>\n",
       "      <td>243.960</td>\n",
       "      <td>243.86</td>\n",
       "      <td>246.48</td>\n",
       "      <td>21800716</td>\n",
       "    </tr>\n",
       "    <tr>\n",
       "      <th>4</th>\n",
       "      <td>2021-05-19</td>\n",
       "      <td>239.310</td>\n",
       "      <td>238.60</td>\n",
       "      <td>243.12</td>\n",
       "      <td>25739807</td>\n",
       "    </tr>\n",
       "    <tr>\n",
       "      <th>...</th>\n",
       "      <td>...</td>\n",
       "      <td>...</td>\n",
       "      <td>...</td>\n",
       "      <td>...</td>\n",
       "      <td>...</td>\n",
       "    </tr>\n",
       "    <tr>\n",
       "      <th>248</th>\n",
       "      <td>2020-06-01</td>\n",
       "      <td>182.540</td>\n",
       "      <td>181.46</td>\n",
       "      <td>182.83</td>\n",
       "      <td>22668821</td>\n",
       "    </tr>\n",
       "    <tr>\n",
       "      <th>249</th>\n",
       "      <td>2020-05-29</td>\n",
       "      <td>182.730</td>\n",
       "      <td>180.41</td>\n",
       "      <td>183.25</td>\n",
       "      <td>42146720</td>\n",
       "    </tr>\n",
       "    <tr>\n",
       "      <th>250</th>\n",
       "      <td>2020-05-28</td>\n",
       "      <td>180.740</td>\n",
       "      <td>180.38</td>\n",
       "      <td>181.40</td>\n",
       "      <td>33831824</td>\n",
       "    </tr>\n",
       "    <tr>\n",
       "      <th>251</th>\n",
       "      <td>2020-05-27</td>\n",
       "      <td>180.200</td>\n",
       "      <td>176.60</td>\n",
       "      <td>181.81</td>\n",
       "      <td>39517146</td>\n",
       "    </tr>\n",
       "    <tr>\n",
       "      <th>252</th>\n",
       "      <td>2020-05-26</td>\n",
       "      <td>186.340</td>\n",
       "      <td>181.10</td>\n",
       "      <td>181.57</td>\n",
       "      <td>36073609</td>\n",
       "    </tr>\n",
       "  </tbody>\n",
       "</table>\n",
       "<p>253 rows × 5 columns</p>\n",
       "</div>"
      ],
      "text/plain": [
       "          date     open     low   close    volume\n",
       "0   2021-05-25  251.769  250.82  251.72  17704303\n",
       "1   2021-05-24  247.785  247.51  250.78  21411547\n",
       "2   2021-05-21  247.565  244.74  245.17  21863058\n",
       "3   2021-05-20  243.960  243.86  246.48  21800716\n",
       "4   2021-05-19  239.310  238.60  243.12  25739807\n",
       "..         ...      ...     ...     ...       ...\n",
       "248 2020-06-01  182.540  181.46  182.83  22668821\n",
       "249 2020-05-29  182.730  180.41  183.25  42146720\n",
       "250 2020-05-28  180.740  180.38  181.40  33831824\n",
       "251 2020-05-27  180.200  176.60  181.81  39517146\n",
       "252 2020-05-26  186.340  181.10  181.57  36073609\n",
       "\n",
       "[253 rows x 5 columns]"
      ]
     },
     "execution_count": 29,
     "metadata": {},
     "output_type": "execute_result"
    }
   ],
   "source": [
    "df"
   ]
  },
  {
   "cell_type": "code",
   "execution_count": 30,
   "metadata": {},
   "outputs": [],
   "source": [
    "df.to_csv('test.csv')"
   ]
  },
  {
   "cell_type": "code",
   "execution_count": 31,
   "metadata": {},
   "outputs": [
    {
     "name": "stdout",
     "output_type": "stream",
     "text": [
      "<class 'pandas.core.frame.DataFrame'>\n",
      "RangeIndex: 253 entries, 0 to 252\n",
      "Data columns (total 5 columns):\n",
      " #   Column  Non-Null Count  Dtype         \n",
      "---  ------  --------------  -----         \n",
      " 0   date    253 non-null    datetime64[ns]\n",
      " 1   open    253 non-null    float64       \n",
      " 2   low     253 non-null    float64       \n",
      " 3   close   253 non-null    float64       \n",
      " 4   volume  253 non-null    int64         \n",
      "dtypes: datetime64[ns](1), float64(3), int64(1)\n",
      "memory usage: 10.0 KB\n"
     ]
    }
   ],
   "source": [
    "df.info()"
   ]
  },
  {
   "cell_type": "markdown",
   "metadata": {},
   "source": [
    "# taking test.csv and train.csv as MSFT data set and trying to define a function to pre-process all the data "
   ]
  },
  {
   "cell_type": "code",
   "execution_count": 60,
   "metadata": {},
   "outputs": [],
   "source": [
    "def pre_process(df):\n",
    "    #df.reset_index(inplace=True) #make it true\n",
    "    print(df)\n",
    "    \n",
    "    #return df\n",
    "\n",
    "\n",
    "#pre_process(df)"
   ]
  },
  {
   "cell_type": "code",
   "execution_count": 61,
   "metadata": {},
   "outputs": [
    {
     "name": "stdout",
     "output_type": "stream",
     "text": [
      "     level_0  index       date     open     low   close    volume\n",
      "0          0      0 2021-05-25  251.769  250.82  251.72  17704303\n",
      "1          1      1 2021-05-24  247.785  247.51  250.78  21411547\n",
      "2          2      2 2021-05-21  247.565  244.74  245.17  21863058\n",
      "3          3      3 2021-05-20  243.960  243.86  246.48  21800716\n",
      "4          4      4 2021-05-19  239.310  238.60  243.12  25739807\n",
      "..       ...    ...        ...      ...     ...     ...       ...\n",
      "248      248    248 2020-06-01  182.540  181.46  182.83  22668821\n",
      "249      249    249 2020-05-29  182.730  180.41  183.25  42146720\n",
      "250      250    250 2020-05-28  180.740  180.38  181.40  33831824\n",
      "251      251    251 2020-05-27  180.200  176.60  181.81  39517146\n",
      "252      252    252 2020-05-26  186.340  181.10  181.57  36073609\n",
      "\n",
      "[253 rows x 7 columns]\n"
     ]
    }
   ],
   "source": [
    "if __name__ == \"__main__\":\n",
    "    #print(\"success\")\n",
    "    pre_process(df2)"
   ]
  },
  {
   "cell_type": "code",
   "execution_count": 3,
   "metadata": {},
   "outputs": [],
   "source": [
    "import pandas as pd"
   ]
  },
  {
   "cell_type": "code",
   "execution_count": 4,
   "metadata": {},
   "outputs": [],
   "source": [
    "df2 = pd.read_csv('test.csv')"
   ]
  },
  {
   "cell_type": "code",
   "execution_count": 5,
   "metadata": {},
   "outputs": [
    {
     "name": "stdout",
     "output_type": "stream",
     "text": [
      "<class 'pandas.core.frame.DataFrame'>\n",
      "RangeIndex: 253 entries, 0 to 252\n",
      "Data columns (total 6 columns):\n",
      " #   Column      Non-Null Count  Dtype  \n",
      "---  ------      --------------  -----  \n",
      " 0   Unnamed: 0  253 non-null    int64  \n",
      " 1   date        253 non-null    object \n",
      " 2   open        253 non-null    float64\n",
      " 3   low         253 non-null    float64\n",
      " 4   close       253 non-null    float64\n",
      " 5   volume      253 non-null    int64  \n",
      "dtypes: float64(3), int64(2), object(1)\n",
      "memory usage: 12.0+ KB\n"
     ]
    }
   ],
   "source": [
    "df2.info(2)"
   ]
  },
  {
   "cell_type": "code",
   "execution_count": null,
   "metadata": {},
   "outputs": [],
   "source": []
  }
 ],
 "metadata": {
  "kernelspec": {
   "display_name": "Python 3",
   "language": "python",
   "name": "python3"
  },
  "language_info": {
   "codemirror_mode": {
    "name": "ipython",
    "version": 3
   },
   "file_extension": ".py",
   "mimetype": "text/x-python",
   "name": "python",
   "nbconvert_exporter": "python",
   "pygments_lexer": "ipython3",
   "version": "3.7.6"
  }
 },
 "nbformat": 4,
 "nbformat_minor": 4
}
